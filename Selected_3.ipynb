{
 "cells": [
  {
   "cell_type": "markdown",
   "metadata": {},
   "source": [
    "## IDEA : Identify and Classify Documents by topic\n",
    "`Names:`\n",
    "    - Abdelfattah Mohamed\n",
    "    - Abdelrahman Ali \n",
    "    -Tariq Yahya\n",
    "    - Aya Alaa\n",
    "    - Gehad Radwan\n",
    "    \n",
    "\n",
    "> `Description of our idea:`\n",
    "    we will use dataset scrapped from Makeup site and make classification on it.\n",
    "    Dataset : https://github.com/aniass/Extracting-data-using-API or\n",
    "              https://www.kaggle.com/oftomorrow/herokuapp-makeup-products\n",
    "    Site Scrapped : http://makeup-api.herokuapp.com/"
   ]
  },
  {
   "cell_type": "markdown",
   "metadata": {},
   "source": [
    "### 01) Importing packages and loading data"
   ]
  },
  {
   "cell_type": "code",
   "execution_count": 1,
   "metadata": {},
   "outputs": [],
   "source": [
    "# MATH LIBRARIES\n",
    "import pandas as pd\n",
    "import numpy as np\n",
    "# NLP LIBRARIES\n",
    "import nltk\n",
    "import string\n",
    "from nltk.corpus import stopwords\n",
    "from nltk.stem import PorterStemmer\n",
    "from nltk.tokenize import sent_tokenize, word_tokenize\n",
    "# VISUALIZATION LIBRARIES\n",
    "import matplotlib.pyplot as plt\n",
    "%matplotlib inline\n",
    "import seaborn as sns\n",
    "#Feature Extraction\n",
    "from sklearn.feature_extraction.text import CountVectorizer\n",
    "from sklearn.feature_extraction.text import TfidfTransformer\n",
    "# SPLITTING DATA\n",
    "from sklearn.model_selection import train_test_split\n",
    "# LOGISTIC REGRESSION\n",
    "from sklearn.linear_model import LogisticRegression\n",
    "# Confusion matrix, Report, Accuracy\n",
    "from sklearn.metrics import confusion_matrix, accuracy_score, classification_report"
   ]
  },
  {
   "cell_type": "code",
   "execution_count": 2,
   "metadata": {},
   "outputs": [
    {
     "data": {
      "text/html": [
       "<div>\n",
       "<style scoped>\n",
       "    .dataframe tbody tr th:only-of-type {\n",
       "        vertical-align: middle;\n",
       "    }\n",
       "\n",
       "    .dataframe tbody tr th {\n",
       "        vertical-align: top;\n",
       "    }\n",
       "\n",
       "    .dataframe thead th {\n",
       "        text-align: right;\n",
       "    }\n",
       "</style>\n",
       "<table border=\"1\" class=\"dataframe\">\n",
       "  <thead>\n",
       "    <tr style=\"text-align: right;\">\n",
       "      <th></th>\n",
       "      <th>Unnamed: 0</th>\n",
       "      <th>brand</th>\n",
       "      <th>category</th>\n",
       "      <th>currency</th>\n",
       "      <th>description</th>\n",
       "      <th>id</th>\n",
       "      <th>name</th>\n",
       "      <th>price</th>\n",
       "      <th>price_sign</th>\n",
       "      <th>product_type</th>\n",
       "      <th>rating</th>\n",
       "      <th>tag_list</th>\n",
       "    </tr>\n",
       "  </thead>\n",
       "  <tbody>\n",
       "    <tr>\n",
       "      <th>0</th>\n",
       "      <td>0</td>\n",
       "      <td>colourpop</td>\n",
       "      <td>pencil</td>\n",
       "      <td>CAD</td>\n",
       "      <td>Lippie Pencil A long-wearing and high-intensit...</td>\n",
       "      <td>1048</td>\n",
       "      <td>Lippie Pencil</td>\n",
       "      <td>5.0</td>\n",
       "      <td>$</td>\n",
       "      <td>lip_liner</td>\n",
       "      <td>NaN</td>\n",
       "      <td>['Vegan', 'cruelty free']</td>\n",
       "    </tr>\n",
       "    <tr>\n",
       "      <th>1</th>\n",
       "      <td>1</td>\n",
       "      <td>colourpop</td>\n",
       "      <td>lipstick</td>\n",
       "      <td>CAD</td>\n",
       "      <td>Blotted Lip Sheer matte lipstick that creates ...</td>\n",
       "      <td>1047</td>\n",
       "      <td>Blotted Lip</td>\n",
       "      <td>5.5</td>\n",
       "      <td>$</td>\n",
       "      <td>lipstick</td>\n",
       "      <td>NaN</td>\n",
       "      <td>['Vegan', 'cruelty free']</td>\n",
       "    </tr>\n",
       "    <tr>\n",
       "      <th>2</th>\n",
       "      <td>2</td>\n",
       "      <td>colourpop</td>\n",
       "      <td>lipstick</td>\n",
       "      <td>CAD</td>\n",
       "      <td>Lippie Stix Formula contains Vitamin E, Mango,...</td>\n",
       "      <td>1046</td>\n",
       "      <td>Lippie Stix</td>\n",
       "      <td>5.5</td>\n",
       "      <td>$</td>\n",
       "      <td>lipstick</td>\n",
       "      <td>NaN</td>\n",
       "      <td>['Vegan', 'cruelty free']</td>\n",
       "    </tr>\n",
       "    <tr>\n",
       "      <th>3</th>\n",
       "      <td>3</td>\n",
       "      <td>colourpop</td>\n",
       "      <td>liquid</td>\n",
       "      <td>CAD</td>\n",
       "      <td>Developed for the Selfie Age, our buildable fu...</td>\n",
       "      <td>1045</td>\n",
       "      <td>No Filter Foundation</td>\n",
       "      <td>12.0</td>\n",
       "      <td>$</td>\n",
       "      <td>foundation</td>\n",
       "      <td>NaN</td>\n",
       "      <td>['Vegan', 'cruelty free']</td>\n",
       "    </tr>\n",
       "    <tr>\n",
       "      <th>4</th>\n",
       "      <td>4</td>\n",
       "      <td>boosh</td>\n",
       "      <td>lipstick</td>\n",
       "      <td>CAD</td>\n",
       "      <td>All of our products are free from lead and hea...</td>\n",
       "      <td>1044</td>\n",
       "      <td>Lipstick</td>\n",
       "      <td>26.0</td>\n",
       "      <td>$</td>\n",
       "      <td>lipstick</td>\n",
       "      <td>NaN</td>\n",
       "      <td>['Organic', 'Chemical Free']</td>\n",
       "    </tr>\n",
       "  </tbody>\n",
       "</table>\n",
       "</div>"
      ],
      "text/plain": [
       "   Unnamed: 0      brand  category currency  \\\n",
       "0           0  colourpop    pencil      CAD   \n",
       "1           1  colourpop  lipstick      CAD   \n",
       "2           2  colourpop  lipstick      CAD   \n",
       "3           3  colourpop    liquid      CAD   \n",
       "4           4      boosh  lipstick      CAD   \n",
       "\n",
       "                                         description    id  \\\n",
       "0  Lippie Pencil A long-wearing and high-intensit...  1048   \n",
       "1  Blotted Lip Sheer matte lipstick that creates ...  1047   \n",
       "2  Lippie Stix Formula contains Vitamin E, Mango,...  1046   \n",
       "3  Developed for the Selfie Age, our buildable fu...  1045   \n",
       "4  All of our products are free from lead and hea...  1044   \n",
       "\n",
       "                   name  price price_sign product_type  rating  \\\n",
       "0         Lippie Pencil    5.0          $    lip_liner     NaN   \n",
       "1           Blotted Lip    5.5          $     lipstick     NaN   \n",
       "2           Lippie Stix    5.5          $     lipstick     NaN   \n",
       "3  No Filter Foundation   12.0          $   foundation     NaN   \n",
       "4              Lipstick   26.0          $     lipstick     NaN   \n",
       "\n",
       "                       tag_list  \n",
       "0     ['Vegan', 'cruelty free']  \n",
       "1     ['Vegan', 'cruelty free']  \n",
       "2     ['Vegan', 'cruelty free']  \n",
       "3     ['Vegan', 'cruelty free']  \n",
       "4  ['Organic', 'Chemical Free']  "
      ]
     },
     "execution_count": 2,
     "metadata": {},
     "output_type": "execute_result"
    }
   ],
   "source": [
    "df = pd.read_csv('Desktop/products_final.csv')\n",
    "df.head()"
   ]
  },
  {
   "cell_type": "markdown",
   "metadata": {},
   "source": [
    "### 02) Data Analysis"
   ]
  },
  {
   "cell_type": "code",
   "execution_count": 3,
   "metadata": {},
   "outputs": [
    {
     "name": "stdout",
     "output_type": "stream",
     "text": [
      "<class 'pandas.core.frame.DataFrame'>\n",
      "RangeIndex: 931 entries, 0 to 930\n",
      "Data columns (total 12 columns):\n",
      " #   Column        Non-Null Count  Dtype  \n",
      "---  ------        --------------  -----  \n",
      " 0   Unnamed: 0    931 non-null    int64  \n",
      " 1   brand         919 non-null    object \n",
      " 2   category      507 non-null    object \n",
      " 3   currency      368 non-null    object \n",
      " 4   description   906 non-null    object \n",
      " 5   id            931 non-null    int64  \n",
      " 6   name          931 non-null    object \n",
      " 7   price         917 non-null    float64\n",
      " 8   price_sign    368 non-null    object \n",
      " 9   product_type  931 non-null    object \n",
      " 10  rating        340 non-null    float64\n",
      " 11  tag_list      931 non-null    object \n",
      "dtypes: float64(2), int64(2), object(8)\n",
      "memory usage: 87.4+ KB\n"
     ]
    }
   ],
   "source": [
    "df.info()"
   ]
  },
  {
   "cell_type": "code",
   "execution_count": 4,
   "metadata": {},
   "outputs": [
    {
     "data": {
      "text/html": [
       "<div>\n",
       "<style scoped>\n",
       "    .dataframe tbody tr th:only-of-type {\n",
       "        vertical-align: middle;\n",
       "    }\n",
       "\n",
       "    .dataframe tbody tr th {\n",
       "        vertical-align: top;\n",
       "    }\n",
       "\n",
       "    .dataframe thead th {\n",
       "        text-align: right;\n",
       "    }\n",
       "</style>\n",
       "<table border=\"1\" class=\"dataframe\">\n",
       "  <thead>\n",
       "    <tr style=\"text-align: right;\">\n",
       "      <th></th>\n",
       "      <th>Unnamed: 0</th>\n",
       "      <th>brand</th>\n",
       "      <th>category</th>\n",
       "      <th>currency</th>\n",
       "      <th>description</th>\n",
       "      <th>id</th>\n",
       "      <th>name</th>\n",
       "      <th>price</th>\n",
       "      <th>price_sign</th>\n",
       "      <th>product_type</th>\n",
       "      <th>rating</th>\n",
       "      <th>tag_list</th>\n",
       "    </tr>\n",
       "  </thead>\n",
       "  <tbody>\n",
       "    <tr>\n",
       "      <th>0</th>\n",
       "      <td>0</td>\n",
       "      <td>colourpop</td>\n",
       "      <td>pencil</td>\n",
       "      <td>CAD</td>\n",
       "      <td>Lippie Pencil A long-wearing and high-intensit...</td>\n",
       "      <td>1048</td>\n",
       "      <td>Lippie Pencil</td>\n",
       "      <td>5.0</td>\n",
       "      <td>$</td>\n",
       "      <td>lip_liner</td>\n",
       "      <td>NaN</td>\n",
       "      <td>['Vegan', 'cruelty free']</td>\n",
       "    </tr>\n",
       "    <tr>\n",
       "      <th>1</th>\n",
       "      <td>1</td>\n",
       "      <td>colourpop</td>\n",
       "      <td>lipstick</td>\n",
       "      <td>CAD</td>\n",
       "      <td>Blotted Lip Sheer matte lipstick that creates ...</td>\n",
       "      <td>1047</td>\n",
       "      <td>Blotted Lip</td>\n",
       "      <td>5.5</td>\n",
       "      <td>$</td>\n",
       "      <td>lipstick</td>\n",
       "      <td>NaN</td>\n",
       "      <td>['Vegan', 'cruelty free']</td>\n",
       "    </tr>\n",
       "    <tr>\n",
       "      <th>2</th>\n",
       "      <td>2</td>\n",
       "      <td>colourpop</td>\n",
       "      <td>lipstick</td>\n",
       "      <td>CAD</td>\n",
       "      <td>Lippie Stix Formula contains Vitamin E, Mango,...</td>\n",
       "      <td>1046</td>\n",
       "      <td>Lippie Stix</td>\n",
       "      <td>5.5</td>\n",
       "      <td>$</td>\n",
       "      <td>lipstick</td>\n",
       "      <td>NaN</td>\n",
       "      <td>['Vegan', 'cruelty free']</td>\n",
       "    </tr>\n",
       "    <tr>\n",
       "      <th>3</th>\n",
       "      <td>3</td>\n",
       "      <td>colourpop</td>\n",
       "      <td>liquid</td>\n",
       "      <td>CAD</td>\n",
       "      <td>Developed for the Selfie Age, our buildable fu...</td>\n",
       "      <td>1045</td>\n",
       "      <td>No Filter Foundation</td>\n",
       "      <td>12.0</td>\n",
       "      <td>$</td>\n",
       "      <td>foundation</td>\n",
       "      <td>NaN</td>\n",
       "      <td>['Vegan', 'cruelty free']</td>\n",
       "    </tr>\n",
       "    <tr>\n",
       "      <th>4</th>\n",
       "      <td>4</td>\n",
       "      <td>boosh</td>\n",
       "      <td>lipstick</td>\n",
       "      <td>CAD</td>\n",
       "      <td>All of our products are free from lead and hea...</td>\n",
       "      <td>1044</td>\n",
       "      <td>Lipstick</td>\n",
       "      <td>26.0</td>\n",
       "      <td>$</td>\n",
       "      <td>lipstick</td>\n",
       "      <td>NaN</td>\n",
       "      <td>['Organic', 'Chemical Free']</td>\n",
       "    </tr>\n",
       "  </tbody>\n",
       "</table>\n",
       "</div>"
      ],
      "text/plain": [
       "   Unnamed: 0      brand  category currency  \\\n",
       "0           0  colourpop    pencil      CAD   \n",
       "1           1  colourpop  lipstick      CAD   \n",
       "2           2  colourpop  lipstick      CAD   \n",
       "3           3  colourpop    liquid      CAD   \n",
       "4           4      boosh  lipstick      CAD   \n",
       "\n",
       "                                         description    id  \\\n",
       "0  Lippie Pencil A long-wearing and high-intensit...  1048   \n",
       "1  Blotted Lip Sheer matte lipstick that creates ...  1047   \n",
       "2  Lippie Stix Formula contains Vitamin E, Mango,...  1046   \n",
       "3  Developed for the Selfie Age, our buildable fu...  1045   \n",
       "4  All of our products are free from lead and hea...  1044   \n",
       "\n",
       "                   name  price price_sign product_type  rating  \\\n",
       "0         Lippie Pencil    5.0          $    lip_liner     NaN   \n",
       "1           Blotted Lip    5.5          $     lipstick     NaN   \n",
       "2           Lippie Stix    5.5          $     lipstick     NaN   \n",
       "3  No Filter Foundation   12.0          $   foundation     NaN   \n",
       "4              Lipstick   26.0          $     lipstick     NaN   \n",
       "\n",
       "                       tag_list  \n",
       "0     ['Vegan', 'cruelty free']  \n",
       "1     ['Vegan', 'cruelty free']  \n",
       "2     ['Vegan', 'cruelty free']  \n",
       "3     ['Vegan', 'cruelty free']  \n",
       "4  ['Organic', 'Chemical Free']  "
      ]
     },
     "execution_count": 4,
     "metadata": {},
     "output_type": "execute_result"
    }
   ],
   "source": [
    "# copying df to text_df to work on it\n",
    "text_df = df.copy()\n",
    "text_df.head()"
   ]
  },
  {
   "cell_type": "code",
   "execution_count": 5,
   "metadata": {},
   "outputs": [
    {
     "data": {
      "text/plain": [
       "(931, 12)"
      ]
     },
     "execution_count": 5,
     "metadata": {},
     "output_type": "execute_result"
    }
   ],
   "source": [
    "# The size of dataset\n",
    "text_df.shape"
   ]
  },
  {
   "cell_type": "code",
   "execution_count": 6,
   "metadata": {},
   "outputs": [
    {
     "data": {
      "text/plain": [
       "'Serum Foundations are lightweight medium-coverage formulations available in a comprehensive shade range across 21 shades. These foundations offer moderate coverage that looks natural with a very lightweight serum feel. They are very low in viscosity and are dispensed with the supplied pump or with the optional glass dropper available for purchase separately if preferred. '"
      ]
     },
     "execution_count": 6,
     "metadata": {},
     "output_type": "execute_result"
    }
   ],
   "source": [
    "text_df['description'][5]"
   ]
  },
  {
   "cell_type": "code",
   "execution_count": 7,
   "metadata": {},
   "outputs": [
    {
     "data": {
      "text/plain": [
       "Unnamed: 0        0\n",
       "brand            12\n",
       "category        424\n",
       "currency        563\n",
       "description      25\n",
       "id                0\n",
       "name              0\n",
       "price            14\n",
       "price_sign      563\n",
       "product_type      0\n",
       "rating          591\n",
       "tag_list          0\n",
       "dtype: int64"
      ]
     },
     "execution_count": 7,
     "metadata": {},
     "output_type": "execute_result"
    }
   ],
   "source": [
    "# Check missing values ?\n",
    "text_df.isnull().sum()"
   ]
  },
  {
   "cell_type": "code",
   "execution_count": 8,
   "metadata": {},
   "outputs": [],
   "source": [
    "# Data type change:\n",
    "text_df['description'] = text_df['description'].astype(str)"
   ]
  },
  {
   "cell_type": "code",
   "execution_count": 9,
   "metadata": {},
   "outputs": [
    {
     "data": {
      "text/html": [
       "<div>\n",
       "<style scoped>\n",
       "    .dataframe tbody tr th:only-of-type {\n",
       "        vertical-align: middle;\n",
       "    }\n",
       "\n",
       "    .dataframe tbody tr th {\n",
       "        vertical-align: top;\n",
       "    }\n",
       "\n",
       "    .dataframe thead th {\n",
       "        text-align: right;\n",
       "    }\n",
       "</style>\n",
       "<table border=\"1\" class=\"dataframe\">\n",
       "  <thead>\n",
       "    <tr style=\"text-align: right;\">\n",
       "      <th></th>\n",
       "      <th>Unnamed: 0</th>\n",
       "      <th>brand</th>\n",
       "      <th>category</th>\n",
       "      <th>currency</th>\n",
       "      <th>description</th>\n",
       "      <th>id</th>\n",
       "      <th>name</th>\n",
       "      <th>price</th>\n",
       "      <th>price_sign</th>\n",
       "      <th>product_type</th>\n",
       "      <th>rating</th>\n",
       "      <th>tag_list</th>\n",
       "      <th>length</th>\n",
       "    </tr>\n",
       "  </thead>\n",
       "  <tbody>\n",
       "    <tr>\n",
       "      <th>0</th>\n",
       "      <td>0</td>\n",
       "      <td>colourpop</td>\n",
       "      <td>pencil</td>\n",
       "      <td>CAD</td>\n",
       "      <td>Lippie Pencil A long-wearing and high-intensit...</td>\n",
       "      <td>1048</td>\n",
       "      <td>Lippie Pencil</td>\n",
       "      <td>5.0</td>\n",
       "      <td>$</td>\n",
       "      <td>lip_liner</td>\n",
       "      <td>NaN</td>\n",
       "      <td>['Vegan', 'cruelty free']</td>\n",
       "      <td>232</td>\n",
       "    </tr>\n",
       "    <tr>\n",
       "      <th>1</th>\n",
       "      <td>1</td>\n",
       "      <td>colourpop</td>\n",
       "      <td>lipstick</td>\n",
       "      <td>CAD</td>\n",
       "      <td>Blotted Lip Sheer matte lipstick that creates ...</td>\n",
       "      <td>1047</td>\n",
       "      <td>Blotted Lip</td>\n",
       "      <td>5.5</td>\n",
       "      <td>$</td>\n",
       "      <td>lipstick</td>\n",
       "      <td>NaN</td>\n",
       "      <td>['Vegan', 'cruelty free']</td>\n",
       "      <td>146</td>\n",
       "    </tr>\n",
       "    <tr>\n",
       "      <th>2</th>\n",
       "      <td>2</td>\n",
       "      <td>colourpop</td>\n",
       "      <td>lipstick</td>\n",
       "      <td>CAD</td>\n",
       "      <td>Lippie Stix Formula contains Vitamin E, Mango,...</td>\n",
       "      <td>1046</td>\n",
       "      <td>Lippie Stix</td>\n",
       "      <td>5.5</td>\n",
       "      <td>$</td>\n",
       "      <td>lipstick</td>\n",
       "      <td>NaN</td>\n",
       "      <td>['Vegan', 'cruelty free']</td>\n",
       "      <td>188</td>\n",
       "    </tr>\n",
       "    <tr>\n",
       "      <th>3</th>\n",
       "      <td>3</td>\n",
       "      <td>colourpop</td>\n",
       "      <td>liquid</td>\n",
       "      <td>CAD</td>\n",
       "      <td>Developed for the Selfie Age, our buildable fu...</td>\n",
       "      <td>1045</td>\n",
       "      <td>No Filter Foundation</td>\n",
       "      <td>12.0</td>\n",
       "      <td>$</td>\n",
       "      <td>foundation</td>\n",
       "      <td>NaN</td>\n",
       "      <td>['Vegan', 'cruelty free']</td>\n",
       "      <td>492</td>\n",
       "    </tr>\n",
       "    <tr>\n",
       "      <th>4</th>\n",
       "      <td>4</td>\n",
       "      <td>boosh</td>\n",
       "      <td>lipstick</td>\n",
       "      <td>CAD</td>\n",
       "      <td>All of our products are free from lead and hea...</td>\n",
       "      <td>1044</td>\n",
       "      <td>Lipstick</td>\n",
       "      <td>26.0</td>\n",
       "      <td>$</td>\n",
       "      <td>lipstick</td>\n",
       "      <td>NaN</td>\n",
       "      <td>['Organic', 'Chemical Free']</td>\n",
       "      <td>357</td>\n",
       "    </tr>\n",
       "  </tbody>\n",
       "</table>\n",
       "</div>"
      ],
      "text/plain": [
       "   Unnamed: 0      brand  category currency  \\\n",
       "0           0  colourpop    pencil      CAD   \n",
       "1           1  colourpop  lipstick      CAD   \n",
       "2           2  colourpop  lipstick      CAD   \n",
       "3           3  colourpop    liquid      CAD   \n",
       "4           4      boosh  lipstick      CAD   \n",
       "\n",
       "                                         description    id  \\\n",
       "0  Lippie Pencil A long-wearing and high-intensit...  1048   \n",
       "1  Blotted Lip Sheer matte lipstick that creates ...  1047   \n",
       "2  Lippie Stix Formula contains Vitamin E, Mango,...  1046   \n",
       "3  Developed for the Selfie Age, our buildable fu...  1045   \n",
       "4  All of our products are free from lead and hea...  1044   \n",
       "\n",
       "                   name  price price_sign product_type  rating  \\\n",
       "0         Lippie Pencil    5.0          $    lip_liner     NaN   \n",
       "1           Blotted Lip    5.5          $     lipstick     NaN   \n",
       "2           Lippie Stix    5.5          $     lipstick     NaN   \n",
       "3  No Filter Foundation   12.0          $   foundation     NaN   \n",
       "4              Lipstick   26.0          $     lipstick     NaN   \n",
       "\n",
       "                       tag_list  length  \n",
       "0     ['Vegan', 'cruelty free']     232  \n",
       "1     ['Vegan', 'cruelty free']     146  \n",
       "2     ['Vegan', 'cruelty free']     188  \n",
       "3     ['Vegan', 'cruelty free']     492  \n",
       "4  ['Organic', 'Chemical Free']     357  "
      ]
     },
     "execution_count": 9,
     "metadata": {},
     "output_type": "execute_result"
    }
   ],
   "source": [
    "# Lenght of characters\n",
    "text_df['length'] = text_df['description'].apply(len)\n",
    "text_df.head()"
   ]
  },
  {
   "cell_type": "code",
   "execution_count": 10,
   "metadata": {},
   "outputs": [
    {
     "data": {
      "text/plain": [
       "array(['lip_liner', 'lipstick', 'foundation', 'eyeliner', 'eyeshadow',\n",
       "       'blush', 'bronzer', 'mascara', 'eyebrow', 'nail_polish'],\n",
       "      dtype=object)"
      ]
     },
     "execution_count": 10,
     "metadata": {},
     "output_type": "execute_result"
    }
   ],
   "source": [
    "# MAYBE WILL MAKE THIS OUR CATEGORIES \"CLASSES\"\n",
    "text_df.product_type.unique()"
   ]
  },
  {
   "cell_type": "code",
   "execution_count": 11,
   "metadata": {},
   "outputs": [
    {
     "data": {
      "text/plain": [
       "count     931.000000\n",
       "mean      625.640172\n",
       "std       816.640434\n",
       "min         3.000000\n",
       "25%       207.000000\n",
       "50%       342.000000\n",
       "75%       675.000000\n",
       "max      5516.000000\n",
       "Name: length, dtype: float64"
      ]
     },
     "execution_count": 11,
     "metadata": {},
     "output_type": "execute_result"
    }
   ],
   "source": [
    "# Statistics\n",
    "text_df['length'].describe()"
   ]
  },
  {
   "cell_type": "code",
   "execution_count": 12,
   "metadata": {},
   "outputs": [
    {
     "data": {
      "text/plain": [
       "foundation     166\n",
       "lipstick       154\n",
       "eyeliner       148\n",
       "mascara         92\n",
       "eyeshadow       86\n",
       "blush           78\n",
       "bronzer         69\n",
       "nail_polish     60\n",
       "eyebrow         49\n",
       "lip_liner       29\n",
       "Name: product_type, dtype: int64"
      ]
     },
     "execution_count": 12,
     "metadata": {},
     "output_type": "execute_result"
    }
   ],
   "source": [
    "# Count values for each class\n",
    "text_df.product_type.value_counts()"
   ]
  },
  {
   "cell_type": "code",
   "execution_count": 13,
   "metadata": {},
   "outputs": [],
   "source": [
    "'''\n",
    "Grouping data with similar names\n",
    "'''\n",
    "text_df.loc[text_df['product_type'].isin(['eyeliner','eyeshadow','mascara','eyebrow']),'product_type'] = 'eye_makeup'\n",
    "text_df.loc[text_df['product_type'].isin(['blush','bronzer']),'product_type'] = 'contour'\n",
    "text_df.loc[text_df['product_type'].isin(['lipstick','lip_liner']),'product_type'] = 'lipstick'"
   ]
  },
  {
   "cell_type": "code",
   "execution_count": 14,
   "metadata": {},
   "outputs": [
    {
     "data": {
      "text/plain": [
       "eye_makeup     375\n",
       "lipstick       183\n",
       "foundation     166\n",
       "contour        147\n",
       "nail_polish     60\n",
       "Name: product_type, dtype: int64"
      ]
     },
     "execution_count": 14,
     "metadata": {},
     "output_type": "execute_result"
    }
   ],
   "source": [
    "#Check \n",
    "'''\n",
    "After run this cell we will have five group of classes:\n",
    "Eye makeup \n",
    "Lipstick\n",
    "Foundation\n",
    "Contour\n",
    "Nail polish\n",
    "'''\n",
    "text_df.product_type.value_counts()"
   ]
  },
  {
   "cell_type": "code",
   "execution_count": 15,
   "metadata": {},
   "outputs": [],
   "source": [
    "# Mapping data to numeric data for learning\n",
    "df_mapping = {\n",
    "    'eye_makeup': 1,\n",
    "    'lipstick': 2,\n",
    "    'foundation': 3,\n",
    "    'contour': 4,\n",
    "    'nail_polish': 5}"
   ]
  },
  {
   "cell_type": "code",
   "execution_count": 16,
   "metadata": {},
   "outputs": [
    {
     "data": {
      "text/html": [
       "<div>\n",
       "<style scoped>\n",
       "    .dataframe tbody tr th:only-of-type {\n",
       "        vertical-align: middle;\n",
       "    }\n",
       "\n",
       "    .dataframe tbody tr th {\n",
       "        vertical-align: top;\n",
       "    }\n",
       "\n",
       "    .dataframe thead th {\n",
       "        text-align: right;\n",
       "    }\n",
       "</style>\n",
       "<table border=\"1\" class=\"dataframe\">\n",
       "  <thead>\n",
       "    <tr style=\"text-align: right;\">\n",
       "      <th></th>\n",
       "      <th>Unnamed: 0</th>\n",
       "      <th>brand</th>\n",
       "      <th>category</th>\n",
       "      <th>currency</th>\n",
       "      <th>description</th>\n",
       "      <th>id</th>\n",
       "      <th>name</th>\n",
       "      <th>price</th>\n",
       "      <th>price_sign</th>\n",
       "      <th>product_type</th>\n",
       "      <th>rating</th>\n",
       "      <th>tag_list</th>\n",
       "      <th>length</th>\n",
       "    </tr>\n",
       "  </thead>\n",
       "  <tbody>\n",
       "    <tr>\n",
       "      <th>0</th>\n",
       "      <td>0</td>\n",
       "      <td>colourpop</td>\n",
       "      <td>pencil</td>\n",
       "      <td>CAD</td>\n",
       "      <td>Lippie Pencil A long-wearing and high-intensit...</td>\n",
       "      <td>1048</td>\n",
       "      <td>Lippie Pencil</td>\n",
       "      <td>5.0</td>\n",
       "      <td>$</td>\n",
       "      <td>2</td>\n",
       "      <td>NaN</td>\n",
       "      <td>['Vegan', 'cruelty free']</td>\n",
       "      <td>232</td>\n",
       "    </tr>\n",
       "    <tr>\n",
       "      <th>1</th>\n",
       "      <td>1</td>\n",
       "      <td>colourpop</td>\n",
       "      <td>lipstick</td>\n",
       "      <td>CAD</td>\n",
       "      <td>Blotted Lip Sheer matte lipstick that creates ...</td>\n",
       "      <td>1047</td>\n",
       "      <td>Blotted Lip</td>\n",
       "      <td>5.5</td>\n",
       "      <td>$</td>\n",
       "      <td>2</td>\n",
       "      <td>NaN</td>\n",
       "      <td>['Vegan', 'cruelty free']</td>\n",
       "      <td>146</td>\n",
       "    </tr>\n",
       "    <tr>\n",
       "      <th>2</th>\n",
       "      <td>2</td>\n",
       "      <td>colourpop</td>\n",
       "      <td>lipstick</td>\n",
       "      <td>CAD</td>\n",
       "      <td>Lippie Stix Formula contains Vitamin E, Mango,...</td>\n",
       "      <td>1046</td>\n",
       "      <td>Lippie Stix</td>\n",
       "      <td>5.5</td>\n",
       "      <td>$</td>\n",
       "      <td>2</td>\n",
       "      <td>NaN</td>\n",
       "      <td>['Vegan', 'cruelty free']</td>\n",
       "      <td>188</td>\n",
       "    </tr>\n",
       "    <tr>\n",
       "      <th>3</th>\n",
       "      <td>3</td>\n",
       "      <td>colourpop</td>\n",
       "      <td>liquid</td>\n",
       "      <td>CAD</td>\n",
       "      <td>Developed for the Selfie Age, our buildable fu...</td>\n",
       "      <td>1045</td>\n",
       "      <td>No Filter Foundation</td>\n",
       "      <td>12.0</td>\n",
       "      <td>$</td>\n",
       "      <td>3</td>\n",
       "      <td>NaN</td>\n",
       "      <td>['Vegan', 'cruelty free']</td>\n",
       "      <td>492</td>\n",
       "    </tr>\n",
       "    <tr>\n",
       "      <th>4</th>\n",
       "      <td>4</td>\n",
       "      <td>boosh</td>\n",
       "      <td>lipstick</td>\n",
       "      <td>CAD</td>\n",
       "      <td>All of our products are free from lead and hea...</td>\n",
       "      <td>1044</td>\n",
       "      <td>Lipstick</td>\n",
       "      <td>26.0</td>\n",
       "      <td>$</td>\n",
       "      <td>2</td>\n",
       "      <td>NaN</td>\n",
       "      <td>['Organic', 'Chemical Free']</td>\n",
       "      <td>357</td>\n",
       "    </tr>\n",
       "  </tbody>\n",
       "</table>\n",
       "</div>"
      ],
      "text/plain": [
       "   Unnamed: 0      brand  category currency  \\\n",
       "0           0  colourpop    pencil      CAD   \n",
       "1           1  colourpop  lipstick      CAD   \n",
       "2           2  colourpop  lipstick      CAD   \n",
       "3           3  colourpop    liquid      CAD   \n",
       "4           4      boosh  lipstick      CAD   \n",
       "\n",
       "                                         description    id  \\\n",
       "0  Lippie Pencil A long-wearing and high-intensit...  1048   \n",
       "1  Blotted Lip Sheer matte lipstick that creates ...  1047   \n",
       "2  Lippie Stix Formula contains Vitamin E, Mango,...  1046   \n",
       "3  Developed for the Selfie Age, our buildable fu...  1045   \n",
       "4  All of our products are free from lead and hea...  1044   \n",
       "\n",
       "                   name  price price_sign  product_type  rating  \\\n",
       "0         Lippie Pencil    5.0          $             2     NaN   \n",
       "1           Blotted Lip    5.5          $             2     NaN   \n",
       "2           Lippie Stix    5.5          $             2     NaN   \n",
       "3  No Filter Foundation   12.0          $             3     NaN   \n",
       "4              Lipstick   26.0          $             2     NaN   \n",
       "\n",
       "                       tag_list  length  \n",
       "0     ['Vegan', 'cruelty free']     232  \n",
       "1     ['Vegan', 'cruelty free']     146  \n",
       "2     ['Vegan', 'cruelty free']     188  \n",
       "3     ['Vegan', 'cruelty free']     492  \n",
       "4  ['Organic', 'Chemical Free']     357  "
      ]
     },
     "execution_count": 16,
     "metadata": {},
     "output_type": "execute_result"
    }
   ],
   "source": [
    "# Applying\n",
    "text_df['product_type'] = text_df['product_type'].map(df_mapping)\n",
    "text_df.head()"
   ]
  },
  {
   "cell_type": "code",
   "execution_count": 17,
   "metadata": {},
   "outputs": [
    {
     "data": {
      "text/html": [
       "<div>\n",
       "<style scoped>\n",
       "    .dataframe tbody tr th:only-of-type {\n",
       "        vertical-align: middle;\n",
       "    }\n",
       "\n",
       "    .dataframe tbody tr th {\n",
       "        vertical-align: top;\n",
       "    }\n",
       "\n",
       "    .dataframe thead tr th {\n",
       "        text-align: left;\n",
       "    }\n",
       "\n",
       "    .dataframe thead tr:last-of-type th {\n",
       "        text-align: right;\n",
       "    }\n",
       "</style>\n",
       "<table border=\"1\" class=\"dataframe\">\n",
       "  <thead>\n",
       "    <tr>\n",
       "      <th></th>\n",
       "      <th colspan=\"8\" halign=\"left\">Unnamed: 0</th>\n",
       "      <th colspan=\"2\" halign=\"left\">id</th>\n",
       "      <th>...</th>\n",
       "      <th colspan=\"2\" halign=\"left\">rating</th>\n",
       "      <th colspan=\"8\" halign=\"left\">length</th>\n",
       "    </tr>\n",
       "    <tr>\n",
       "      <th></th>\n",
       "      <th>count</th>\n",
       "      <th>mean</th>\n",
       "      <th>std</th>\n",
       "      <th>min</th>\n",
       "      <th>25%</th>\n",
       "      <th>50%</th>\n",
       "      <th>75%</th>\n",
       "      <th>max</th>\n",
       "      <th>count</th>\n",
       "      <th>mean</th>\n",
       "      <th>...</th>\n",
       "      <th>75%</th>\n",
       "      <th>max</th>\n",
       "      <th>count</th>\n",
       "      <th>mean</th>\n",
       "      <th>std</th>\n",
       "      <th>min</th>\n",
       "      <th>25%</th>\n",
       "      <th>50%</th>\n",
       "      <th>75%</th>\n",
       "      <th>max</th>\n",
       "    </tr>\n",
       "    <tr>\n",
       "      <th>product_type</th>\n",
       "      <th></th>\n",
       "      <th></th>\n",
       "      <th></th>\n",
       "      <th></th>\n",
       "      <th></th>\n",
       "      <th></th>\n",
       "      <th></th>\n",
       "      <th></th>\n",
       "      <th></th>\n",
       "      <th></th>\n",
       "      <th></th>\n",
       "      <th></th>\n",
       "      <th></th>\n",
       "      <th></th>\n",
       "      <th></th>\n",
       "      <th></th>\n",
       "      <th></th>\n",
       "      <th></th>\n",
       "      <th></th>\n",
       "      <th></th>\n",
       "      <th></th>\n",
       "    </tr>\n",
       "  </thead>\n",
       "  <tbody>\n",
       "    <tr>\n",
       "      <th>1</th>\n",
       "      <td>375.0</td>\n",
       "      <td>494.349333</td>\n",
       "      <td>299.084679</td>\n",
       "      <td>7.0</td>\n",
       "      <td>243.50</td>\n",
       "      <td>457.0</td>\n",
       "      <td>741.50</td>\n",
       "      <td>930.0</td>\n",
       "      <td>375.0</td>\n",
       "      <td>497.712000</td>\n",
       "      <td>...</td>\n",
       "      <td>4.8</td>\n",
       "      <td>5.0</td>\n",
       "      <td>375.0</td>\n",
       "      <td>651.048000</td>\n",
       "      <td>838.703069</td>\n",
       "      <td>3.0</td>\n",
       "      <td>207.5</td>\n",
       "      <td>336.0</td>\n",
       "      <td>737.5</td>\n",
       "      <td>5458.0</td>\n",
       "    </tr>\n",
       "    <tr>\n",
       "      <th>2</th>\n",
       "      <td>183.0</td>\n",
       "      <td>449.737705</td>\n",
       "      <td>283.983375</td>\n",
       "      <td>0.0</td>\n",
       "      <td>187.50</td>\n",
       "      <td>380.0</td>\n",
       "      <td>830.50</td>\n",
       "      <td>876.0</td>\n",
       "      <td>183.0</td>\n",
       "      <td>551.808743</td>\n",
       "      <td>...</td>\n",
       "      <td>5.0</td>\n",
       "      <td>5.0</td>\n",
       "      <td>183.0</td>\n",
       "      <td>536.814208</td>\n",
       "      <td>820.086345</td>\n",
       "      <td>3.0</td>\n",
       "      <td>174.5</td>\n",
       "      <td>302.0</td>\n",
       "      <td>526.0</td>\n",
       "      <td>5516.0</td>\n",
       "    </tr>\n",
       "    <tr>\n",
       "      <th>3</th>\n",
       "      <td>166.0</td>\n",
       "      <td>376.668675</td>\n",
       "      <td>216.358160</td>\n",
       "      <td>3.0</td>\n",
       "      <td>202.25</td>\n",
       "      <td>351.5</td>\n",
       "      <td>606.75</td>\n",
       "      <td>648.0</td>\n",
       "      <td>166.0</td>\n",
       "      <td>632.777108</td>\n",
       "      <td>...</td>\n",
       "      <td>4.7</td>\n",
       "      <td>5.0</td>\n",
       "      <td>166.0</td>\n",
       "      <td>652.524096</td>\n",
       "      <td>926.370387</td>\n",
       "      <td>3.0</td>\n",
       "      <td>225.0</td>\n",
       "      <td>342.0</td>\n",
       "      <td>562.5</td>\n",
       "      <td>4806.0</td>\n",
       "    </tr>\n",
       "    <tr>\n",
       "      <th>4</th>\n",
       "      <td>147.0</td>\n",
       "      <td>418.210884</td>\n",
       "      <td>159.677081</td>\n",
       "      <td>13.0</td>\n",
       "      <td>340.50</td>\n",
       "      <td>489.0</td>\n",
       "      <td>525.50</td>\n",
       "      <td>689.0</td>\n",
       "      <td>147.0</td>\n",
       "      <td>579.972789</td>\n",
       "      <td>...</td>\n",
       "      <td>5.0</td>\n",
       "      <td>5.0</td>\n",
       "      <td>147.0</td>\n",
       "      <td>686.503401</td>\n",
       "      <td>754.843750</td>\n",
       "      <td>3.0</td>\n",
       "      <td>228.0</td>\n",
       "      <td>398.0</td>\n",
       "      <td>1077.0</td>\n",
       "      <td>5350.0</td>\n",
       "    </tr>\n",
       "    <tr>\n",
       "      <th>5</th>\n",
       "      <td>60.0</td>\n",
       "      <td>687.133333</td>\n",
       "      <td>214.869489</td>\n",
       "      <td>295.0</td>\n",
       "      <td>782.75</td>\n",
       "      <td>797.5</td>\n",
       "      <td>812.25</td>\n",
       "      <td>827.0</td>\n",
       "      <td>60.0</td>\n",
       "      <td>276.550000</td>\n",
       "      <td>...</td>\n",
       "      <td>5.0</td>\n",
       "      <td>5.0</td>\n",
       "      <td>60.0</td>\n",
       "      <td>514.266667</td>\n",
       "      <td>340.863801</td>\n",
       "      <td>95.0</td>\n",
       "      <td>212.5</td>\n",
       "      <td>546.5</td>\n",
       "      <td>786.0</td>\n",
       "      <td>1252.0</td>\n",
       "    </tr>\n",
       "  </tbody>\n",
       "</table>\n",
       "<p>5 rows × 40 columns</p>\n",
       "</div>"
      ],
      "text/plain": [
       "             Unnamed: 0                                                        \\\n",
       "                  count        mean         std    min     25%    50%     75%   \n",
       "product_type                                                                    \n",
       "1                 375.0  494.349333  299.084679    7.0  243.50  457.0  741.50   \n",
       "2                 183.0  449.737705  283.983375    0.0  187.50  380.0  830.50   \n",
       "3                 166.0  376.668675  216.358160    3.0  202.25  351.5  606.75   \n",
       "4                 147.0  418.210884  159.677081   13.0  340.50  489.0  525.50   \n",
       "5                  60.0  687.133333  214.869489  295.0  782.75  797.5  812.25   \n",
       "\n",
       "                        id              ... rating      length              \\\n",
       "                max  count        mean  ...    75%  max  count        mean   \n",
       "product_type                            ...                                  \n",
       "1             930.0  375.0  497.712000  ...    4.8  5.0  375.0  651.048000   \n",
       "2             876.0  183.0  551.808743  ...    5.0  5.0  183.0  536.814208   \n",
       "3             648.0  166.0  632.777108  ...    4.7  5.0  166.0  652.524096   \n",
       "4             689.0  147.0  579.972789  ...    5.0  5.0  147.0  686.503401   \n",
       "5             827.0   60.0  276.550000  ...    5.0  5.0   60.0  514.266667   \n",
       "\n",
       "                                                              \n",
       "                     std   min    25%    50%     75%     max  \n",
       "product_type                                                  \n",
       "1             838.703069   3.0  207.5  336.0   737.5  5458.0  \n",
       "2             820.086345   3.0  174.5  302.0   526.0  5516.0  \n",
       "3             926.370387   3.0  225.0  342.0   562.5  4806.0  \n",
       "4             754.843750   3.0  228.0  398.0  1077.0  5350.0  \n",
       "5             340.863801  95.0  212.5  546.5   786.0  1252.0  \n",
       "\n",
       "[5 rows x 40 columns]"
      ]
     },
     "execution_count": 17,
     "metadata": {},
     "output_type": "execute_result"
    }
   ],
   "source": [
    "# Statisics for types\n",
    "text_df.groupby('product_type').describe()"
   ]
  },
  {
   "cell_type": "code",
   "execution_count": 18,
   "metadata": {},
   "outputs": [
    {
     "data": {
      "image/png": "[encoded data removed]",
      "text/plain": [
       "<Figure size 432x288 with 1 Axes>"
      ]
     },
     "metadata": {
      "needs_background": "light"
     },
     "output_type": "display_data"
    }
   ],
   "source": [
    "# SIMPLE VISUALIZATION \n",
    "text_df.groupby('product_type').description.count().plot.bar(ylim=0)\n",
    "plt.show()"
   ]
  },
  {
   "cell_type": "markdown",
   "metadata": {},
   "source": [
    "### 03) Text Pre-processing\n"
   ]
  },
  {
   "cell_type": "markdown",
   "metadata": {},
   "source": [
    "> 1- Removing punctions"
   ]
  },
  {
   "cell_type": "code",
   "execution_count": 19,
   "metadata": {},
   "outputs": [],
   "source": [
    "'''\n",
    "remove_punctuation method\n",
    "'''\n",
    "def remove_punctuation(description):\n",
    "    table = str.maketrans('', '', string.punctuation)\n",
    "    return description.translate(table)"
   ]
  },
  {
   "cell_type": "code",
   "execution_count": 20,
   "metadata": {},
   "outputs": [
    {
     "data": {
      "text/html": [
       "<div>\n",
       "<style scoped>\n",
       "    .dataframe tbody tr th:only-of-type {\n",
       "        vertical-align: middle;\n",
       "    }\n",
       "\n",
       "    .dataframe tbody tr th {\n",
       "        vertical-align: top;\n",
       "    }\n",
       "\n",
       "    .dataframe thead th {\n",
       "        text-align: right;\n",
       "    }\n",
       "</style>\n",
       "<table border=\"1\" class=\"dataframe\">\n",
       "  <thead>\n",
       "    <tr style=\"text-align: right;\">\n",
       "      <th></th>\n",
       "      <th>Unnamed: 0</th>\n",
       "      <th>brand</th>\n",
       "      <th>category</th>\n",
       "      <th>currency</th>\n",
       "      <th>description</th>\n",
       "      <th>id</th>\n",
       "      <th>name</th>\n",
       "      <th>price</th>\n",
       "      <th>price_sign</th>\n",
       "      <th>product_type</th>\n",
       "      <th>rating</th>\n",
       "      <th>tag_list</th>\n",
       "      <th>length</th>\n",
       "    </tr>\n",
       "  </thead>\n",
       "  <tbody>\n",
       "    <tr>\n",
       "      <th>0</th>\n",
       "      <td>0</td>\n",
       "      <td>colourpop</td>\n",
       "      <td>pencil</td>\n",
       "      <td>CAD</td>\n",
       "      <td>Lippie Pencil A longwearing and highintensity ...</td>\n",
       "      <td>1048</td>\n",
       "      <td>Lippie Pencil</td>\n",
       "      <td>5.0</td>\n",
       "      <td>$</td>\n",
       "      <td>2</td>\n",
       "      <td>NaN</td>\n",
       "      <td>['Vegan', 'cruelty free']</td>\n",
       "      <td>232</td>\n",
       "    </tr>\n",
       "    <tr>\n",
       "      <th>1</th>\n",
       "      <td>1</td>\n",
       "      <td>colourpop</td>\n",
       "      <td>lipstick</td>\n",
       "      <td>CAD</td>\n",
       "      <td>Blotted Lip Sheer matte lipstick that creates ...</td>\n",
       "      <td>1047</td>\n",
       "      <td>Blotted Lip</td>\n",
       "      <td>5.5</td>\n",
       "      <td>$</td>\n",
       "      <td>2</td>\n",
       "      <td>NaN</td>\n",
       "      <td>['Vegan', 'cruelty free']</td>\n",
       "      <td>146</td>\n",
       "    </tr>\n",
       "    <tr>\n",
       "      <th>2</th>\n",
       "      <td>2</td>\n",
       "      <td>colourpop</td>\n",
       "      <td>lipstick</td>\n",
       "      <td>CAD</td>\n",
       "      <td>Lippie Stix Formula contains Vitamin E Mango A...</td>\n",
       "      <td>1046</td>\n",
       "      <td>Lippie Stix</td>\n",
       "      <td>5.5</td>\n",
       "      <td>$</td>\n",
       "      <td>2</td>\n",
       "      <td>NaN</td>\n",
       "      <td>['Vegan', 'cruelty free']</td>\n",
       "      <td>188</td>\n",
       "    </tr>\n",
       "    <tr>\n",
       "      <th>3</th>\n",
       "      <td>3</td>\n",
       "      <td>colourpop</td>\n",
       "      <td>liquid</td>\n",
       "      <td>CAD</td>\n",
       "      <td>Developed for the Selfie Age our buildable ful...</td>\n",
       "      <td>1045</td>\n",
       "      <td>No Filter Foundation</td>\n",
       "      <td>12.0</td>\n",
       "      <td>$</td>\n",
       "      <td>3</td>\n",
       "      <td>NaN</td>\n",
       "      <td>['Vegan', 'cruelty free']</td>\n",
       "      <td>492</td>\n",
       "    </tr>\n",
       "    <tr>\n",
       "      <th>4</th>\n",
       "      <td>4</td>\n",
       "      <td>boosh</td>\n",
       "      <td>lipstick</td>\n",
       "      <td>CAD</td>\n",
       "      <td>All of our products are free from lead and hea...</td>\n",
       "      <td>1044</td>\n",
       "      <td>Lipstick</td>\n",
       "      <td>26.0</td>\n",
       "      <td>$</td>\n",
       "      <td>2</td>\n",
       "      <td>NaN</td>\n",
       "      <td>['Organic', 'Chemical Free']</td>\n",
       "      <td>357</td>\n",
       "    </tr>\n",
       "  </tbody>\n",
       "</table>\n",
       "</div>"
      ],
      "text/plain": [
       "   Unnamed: 0      brand  category currency  \\\n",
       "0           0  colourpop    pencil      CAD   \n",
       "1           1  colourpop  lipstick      CAD   \n",
       "2           2  colourpop  lipstick      CAD   \n",
       "3           3  colourpop    liquid      CAD   \n",
       "4           4      boosh  lipstick      CAD   \n",
       "\n",
       "                                         description    id  \\\n",
       "0  Lippie Pencil A longwearing and highintensity ...  1048   \n",
       "1  Blotted Lip Sheer matte lipstick that creates ...  1047   \n",
       "2  Lippie Stix Formula contains Vitamin E Mango A...  1046   \n",
       "3  Developed for the Selfie Age our buildable ful...  1045   \n",
       "4  All of our products are free from lead and hea...  1044   \n",
       "\n",
       "                   name  price price_sign  product_type  rating  \\\n",
       "0         Lippie Pencil    5.0          $             2     NaN   \n",
       "1           Blotted Lip    5.5          $             2     NaN   \n",
       "2           Lippie Stix    5.5          $             2     NaN   \n",
       "3  No Filter Foundation   12.0          $             3     NaN   \n",
       "4              Lipstick   26.0          $             2     NaN   \n",
       "\n",
       "                       tag_list  length  \n",
       "0     ['Vegan', 'cruelty free']     232  \n",
       "1     ['Vegan', 'cruelty free']     146  \n",
       "2     ['Vegan', 'cruelty free']     188  \n",
       "3     ['Vegan', 'cruelty free']     492  \n",
       "4  ['Organic', 'Chemical Free']     357  "
      ]
     },
     "execution_count": 20,
     "metadata": {},
     "output_type": "execute_result"
    }
   ],
   "source": [
    "# Applying\n",
    "text_df['description'] = text_df['description'].apply(remove_punctuation)\n",
    "text_df.head()"
   ]
  },
  {
   "cell_type": "markdown",
   "metadata": {},
   "source": [
    "> 2- Stop words\n"
   ]
  },
  {
   "cell_type": "code",
   "execution_count": 21,
   "metadata": {},
   "outputs": [
    {
     "data": {
      "text/plain": [
       "['i', 'me', 'my', 'myself', 'we', 'our', 'ours', 'ourselves', 'you', \"you're\"]"
      ]
     },
     "execution_count": 21,
     "metadata": {},
     "output_type": "execute_result"
    }
   ],
   "source": [
    "# stopwords showing\n",
    "stop = stopwords.words('english')\n",
    "stop[0:10]"
   ]
  },
  {
   "cell_type": "code",
   "execution_count": 22,
   "metadata": {},
   "outputs": [],
   "source": [
    "'''\n",
    "remove_stopwords method\n",
    "'''\n",
    "def remove_stopwords(text):\n",
    "    text = [word.lower() for word in text.split() if word.lower() not in stop]\n",
    "    return \" \".join(text)"
   ]
  },
  {
   "cell_type": "code",
   "execution_count": 23,
   "metadata": {},
   "outputs": [
    {
     "data": {
      "text/html": [
       "<div>\n",
       "<style scoped>\n",
       "    .dataframe tbody tr th:only-of-type {\n",
       "        vertical-align: middle;\n",
       "    }\n",
       "\n",
       "    .dataframe tbody tr th {\n",
       "        vertical-align: top;\n",
       "    }\n",
       "\n",
       "    .dataframe thead th {\n",
       "        text-align: right;\n",
       "    }\n",
       "</style>\n",
       "<table border=\"1\" class=\"dataframe\">\n",
       "  <thead>\n",
       "    <tr style=\"text-align: right;\">\n",
       "      <th></th>\n",
       "      <th>Unnamed: 0</th>\n",
       "      <th>brand</th>\n",
       "      <th>category</th>\n",
       "      <th>currency</th>\n",
       "      <th>description</th>\n",
       "      <th>id</th>\n",
       "      <th>name</th>\n",
       "      <th>price</th>\n",
       "      <th>price_sign</th>\n",
       "      <th>product_type</th>\n",
       "      <th>rating</th>\n",
       "      <th>tag_list</th>\n",
       "      <th>length</th>\n",
       "    </tr>\n",
       "  </thead>\n",
       "  <tbody>\n",
       "    <tr>\n",
       "      <th>926</th>\n",
       "      <td>926</td>\n",
       "      <td>pacifica</td>\n",
       "      <td>NaN</td>\n",
       "      <td>NaN</td>\n",
       "      <td>fall love pacificas long lasting nourishing na...</td>\n",
       "      <td>5</td>\n",
       "      <td>Pacifica Stellar Gaze Length &amp; Strength Minera...</td>\n",
       "      <td>28.00</td>\n",
       "      <td>NaN</td>\n",
       "      <td>1</td>\n",
       "      <td>4.2</td>\n",
       "      <td>['Vegan', 'Natural']</td>\n",
       "      <td>1025</td>\n",
       "    </tr>\n",
       "    <tr>\n",
       "      <th>927</th>\n",
       "      <td>927</td>\n",
       "      <td>physicians formula</td>\n",
       "      <td>NaN</td>\n",
       "      <td>NaN</td>\n",
       "      <td>physicians formula organic wear fakeout mascar...</td>\n",
       "      <td>4</td>\n",
       "      <td>Physicians Formula Organic Wear FakeOut Mascara</td>\n",
       "      <td>15.79</td>\n",
       "      <td>NaN</td>\n",
       "      <td>1</td>\n",
       "      <td>3.9</td>\n",
       "      <td>['Gluten Free', 'Natural']</td>\n",
       "      <td>1320</td>\n",
       "    </tr>\n",
       "    <tr>\n",
       "      <th>928</th>\n",
       "      <td>928</td>\n",
       "      <td>physicians formula</td>\n",
       "      <td>NaN</td>\n",
       "      <td>NaN</td>\n",
       "      <td>physicians formula organic wear lash boosting ...</td>\n",
       "      <td>3</td>\n",
       "      <td>Physicians Formula Organic Wear Lash Boosting ...</td>\n",
       "      <td>15.79</td>\n",
       "      <td>NaN</td>\n",
       "      <td>1</td>\n",
       "      <td>3.7</td>\n",
       "      <td>['Gluten Free', 'Natural']</td>\n",
       "      <td>1830</td>\n",
       "    </tr>\n",
       "    <tr>\n",
       "      <th>929</th>\n",
       "      <td>929</td>\n",
       "      <td>NaN</td>\n",
       "      <td>NaN</td>\n",
       "      <td>NaN</td>\n",
       "      <td>voluminous volume building waterproof mascara’...</td>\n",
       "      <td>2</td>\n",
       "      <td>L' Oreal Paris Voluminous Mascara</td>\n",
       "      <td>9.99</td>\n",
       "      <td>NaN</td>\n",
       "      <td>1</td>\n",
       "      <td>4.5</td>\n",
       "      <td>[]</td>\n",
       "      <td>936</td>\n",
       "    </tr>\n",
       "    <tr>\n",
       "      <th>930</th>\n",
       "      <td>930</td>\n",
       "      <td>pure anada</td>\n",
       "      <td>NaN</td>\n",
       "      <td>NaN</td>\n",
       "      <td>finally natural mascara feel good putting lash...</td>\n",
       "      <td>1</td>\n",
       "      <td>Pure Anada Natural Mascara</td>\n",
       "      <td>14.00</td>\n",
       "      <td>NaN</td>\n",
       "      <td>1</td>\n",
       "      <td>4.6</td>\n",
       "      <td>['Canadian', 'Gluten Free', 'Natural']</td>\n",
       "      <td>631</td>\n",
       "    </tr>\n",
       "  </tbody>\n",
       "</table>\n",
       "</div>"
      ],
      "text/plain": [
       "     Unnamed: 0               brand category currency  \\\n",
       "926         926            pacifica      NaN      NaN   \n",
       "927         927  physicians formula      NaN      NaN   \n",
       "928         928  physicians formula      NaN      NaN   \n",
       "929         929                 NaN      NaN      NaN   \n",
       "930         930          pure anada      NaN      NaN   \n",
       "\n",
       "                                           description  id  \\\n",
       "926  fall love pacificas long lasting nourishing na...   5   \n",
       "927  physicians formula organic wear fakeout mascar...   4   \n",
       "928  physicians formula organic wear lash boosting ...   3   \n",
       "929  voluminous volume building waterproof mascara’...   2   \n",
       "930  finally natural mascara feel good putting lash...   1   \n",
       "\n",
       "                                                  name  price price_sign  \\\n",
       "926  Pacifica Stellar Gaze Length & Strength Minera...  28.00        NaN   \n",
       "927    Physicians Formula Organic Wear FakeOut Mascara  15.79        NaN   \n",
       "928  Physicians Formula Organic Wear Lash Boosting ...  15.79        NaN   \n",
       "929                  L' Oreal Paris Voluminous Mascara   9.99        NaN   \n",
       "930                         Pure Anada Natural Mascara  14.00        NaN   \n",
       "\n",
       "     product_type  rating                                tag_list  length  \n",
       "926             1     4.2                    ['Vegan', 'Natural']    1025  \n",
       "927             1     3.9              ['Gluten Free', 'Natural']    1320  \n",
       "928             1     3.7              ['Gluten Free', 'Natural']    1830  \n",
       "929             1     4.5                                      []     936  \n",
       "930             1     4.6  ['Canadian', 'Gluten Free', 'Natural']     631  "
      ]
     },
     "execution_count": 23,
     "metadata": {},
     "output_type": "execute_result"
    }
   ],
   "source": [
    "# Applying\n",
    "text_df['description'] = text_df['description'].apply(remove_stopwords)\n",
    "text_df.tail()"
   ]
  },
  {
   "cell_type": "code",
   "execution_count": 24,
   "metadata": {},
   "outputs": [
    {
     "data": {
      "text/plain": [
       "'serum foundations lightweight mediumcoverage formulations available comprehensive shade range across 21 shades foundations offer moderate coverage looks natural lightweight serum feel low viscosity dispensed supplied pump optional glass dropper available purchase separately preferred'"
      ]
     },
     "execution_count": 24,
     "metadata": {},
     "output_type": "execute_result"
    }
   ],
   "source": [
    "# Test\n",
    "text_df['description'][5]"
   ]
  },
  {
   "cell_type": "markdown",
   "metadata": {},
   "source": [
    "> 3- Stemming\n"
   ]
  },
  {
   "cell_type": "code",
   "execution_count": 25,
   "metadata": {},
   "outputs": [],
   "source": [
    "porter = PorterStemmer()\n",
    "'''\n",
    "Stemmer method\n",
    "'''\n",
    "def stemmer(stem_text):\n",
    "    stem_text = [porter.stem(word) for word in stem_text.split()]\n",
    "    return \" \".join(stem_text)"
   ]
  },
  {
   "cell_type": "code",
   "execution_count": 26,
   "metadata": {},
   "outputs": [
    {
     "data": {
      "text/html": [
       "<div>\n",
       "<style scoped>\n",
       "    .dataframe tbody tr th:only-of-type {\n",
       "        vertical-align: middle;\n",
       "    }\n",
       "\n",
       "    .dataframe tbody tr th {\n",
       "        vertical-align: top;\n",
       "    }\n",
       "\n",
       "    .dataframe thead th {\n",
       "        text-align: right;\n",
       "    }\n",
       "</style>\n",
       "<table border=\"1\" class=\"dataframe\">\n",
       "  <thead>\n",
       "    <tr style=\"text-align: right;\">\n",
       "      <th></th>\n",
       "      <th>Unnamed: 0</th>\n",
       "      <th>brand</th>\n",
       "      <th>category</th>\n",
       "      <th>currency</th>\n",
       "      <th>description</th>\n",
       "      <th>id</th>\n",
       "      <th>name</th>\n",
       "      <th>price</th>\n",
       "      <th>price_sign</th>\n",
       "      <th>product_type</th>\n",
       "      <th>rating</th>\n",
       "      <th>tag_list</th>\n",
       "      <th>length</th>\n",
       "    </tr>\n",
       "  </thead>\n",
       "  <tbody>\n",
       "    <tr>\n",
       "      <th>0</th>\n",
       "      <td>0</td>\n",
       "      <td>colourpop</td>\n",
       "      <td>pencil</td>\n",
       "      <td>CAD</td>\n",
       "      <td>lippi pencil longwear highintens lip pencil gl...</td>\n",
       "      <td>1048</td>\n",
       "      <td>Lippie Pencil</td>\n",
       "      <td>5.0</td>\n",
       "      <td>$</td>\n",
       "      <td>2</td>\n",
       "      <td>NaN</td>\n",
       "      <td>['Vegan', 'cruelty free']</td>\n",
       "      <td>232</td>\n",
       "    </tr>\n",
       "    <tr>\n",
       "      <th>1</th>\n",
       "      <td>1</td>\n",
       "      <td>colourpop</td>\n",
       "      <td>lipstick</td>\n",
       "      <td>CAD</td>\n",
       "      <td>blot lip sheer matt lipstick creat perfect pop...</td>\n",
       "      <td>1047</td>\n",
       "      <td>Blotted Lip</td>\n",
       "      <td>5.5</td>\n",
       "      <td>$</td>\n",
       "      <td>2</td>\n",
       "      <td>NaN</td>\n",
       "      <td>['Vegan', 'cruelty free']</td>\n",
       "      <td>146</td>\n",
       "    </tr>\n",
       "    <tr>\n",
       "      <th>2</th>\n",
       "      <td>2</td>\n",
       "      <td>colourpop</td>\n",
       "      <td>lipstick</td>\n",
       "      <td>CAD</td>\n",
       "      <td>lippi stix formula contain vitamin e mango avo...</td>\n",
       "      <td>1046</td>\n",
       "      <td>Lippie Stix</td>\n",
       "      <td>5.5</td>\n",
       "      <td>$</td>\n",
       "      <td>2</td>\n",
       "      <td>NaN</td>\n",
       "      <td>['Vegan', 'cruelty free']</td>\n",
       "      <td>188</td>\n",
       "    </tr>\n",
       "    <tr>\n",
       "      <th>3</th>\n",
       "      <td>3</td>\n",
       "      <td>colourpop</td>\n",
       "      <td>liquid</td>\n",
       "      <td>CAD</td>\n",
       "      <td>develop selfi age buildabl full coverag natur ...</td>\n",
       "      <td>1045</td>\n",
       "      <td>No Filter Foundation</td>\n",
       "      <td>12.0</td>\n",
       "      <td>$</td>\n",
       "      <td>3</td>\n",
       "      <td>NaN</td>\n",
       "      <td>['Vegan', 'cruelty free']</td>\n",
       "      <td>492</td>\n",
       "    </tr>\n",
       "    <tr>\n",
       "      <th>4</th>\n",
       "      <td>4</td>\n",
       "      <td>boosh</td>\n",
       "      <td>lipstick</td>\n",
       "      <td>CAD</td>\n",
       "      <td>product free lead heavi metal paraben phthalat...</td>\n",
       "      <td>1044</td>\n",
       "      <td>Lipstick</td>\n",
       "      <td>26.0</td>\n",
       "      <td>$</td>\n",
       "      <td>2</td>\n",
       "      <td>NaN</td>\n",
       "      <td>['Organic', 'Chemical Free']</td>\n",
       "      <td>357</td>\n",
       "    </tr>\n",
       "  </tbody>\n",
       "</table>\n",
       "</div>"
      ],
      "text/plain": [
       "   Unnamed: 0      brand  category currency  \\\n",
       "0           0  colourpop    pencil      CAD   \n",
       "1           1  colourpop  lipstick      CAD   \n",
       "2           2  colourpop  lipstick      CAD   \n",
       "3           3  colourpop    liquid      CAD   \n",
       "4           4      boosh  lipstick      CAD   \n",
       "\n",
       "                                         description    id  \\\n",
       "0  lippi pencil longwear highintens lip pencil gl...  1048   \n",
       "1  blot lip sheer matt lipstick creat perfect pop...  1047   \n",
       "2  lippi stix formula contain vitamin e mango avo...  1046   \n",
       "3  develop selfi age buildabl full coverag natur ...  1045   \n",
       "4  product free lead heavi metal paraben phthalat...  1044   \n",
       "\n",
       "                   name  price price_sign  product_type  rating  \\\n",
       "0         Lippie Pencil    5.0          $             2     NaN   \n",
       "1           Blotted Lip    5.5          $             2     NaN   \n",
       "2           Lippie Stix    5.5          $             2     NaN   \n",
       "3  No Filter Foundation   12.0          $             3     NaN   \n",
       "4              Lipstick   26.0          $             2     NaN   \n",
       "\n",
       "                       tag_list  length  \n",
       "0     ['Vegan', 'cruelty free']     232  \n",
       "1     ['Vegan', 'cruelty free']     146  \n",
       "2     ['Vegan', 'cruelty free']     188  \n",
       "3     ['Vegan', 'cruelty free']     492  \n",
       "4  ['Organic', 'Chemical Free']     357  "
      ]
     },
     "execution_count": 26,
     "metadata": {},
     "output_type": "execute_result"
    }
   ],
   "source": [
    "# Applying\n",
    "text_df['description'] = text_df['description'].apply(stemmer)\n",
    "text_df.head()"
   ]
  },
  {
   "cell_type": "code",
   "execution_count": 27,
   "metadata": {},
   "outputs": [
    {
     "data": {
      "text/plain": [
       "'serum foundat lightweight mediumcoverag formul avail comprehens shade rang across 21 shade foundat offer moder coverag look natur lightweight serum feel low viscos dispens suppli pump option glass dropper avail purchas separ prefer'"
      ]
     },
     "execution_count": 27,
     "metadata": {},
     "output_type": "execute_result"
    }
   ],
   "source": [
    "# Checking\n",
    "text_df['description'][5]"
   ]
  },
  {
   "cell_type": "markdown",
   "metadata": {},
   "source": [
    "> 4- Part of Speech Tagging\n"
   ]
  },
  {
   "cell_type": "code",
   "execution_count": 28,
   "metadata": {},
   "outputs": [
    {
     "name": "stderr",
     "output_type": "stream",
     "text": [
      "[nltk_data] Downloading package averaged_perceptron_tagger to\n",
      "[nltk_data]     C:\\Users\\gogo\\AppData\\Roaming\\nltk_data...\n",
      "[nltk_data]   Package averaged_perceptron_tagger is already up-to-\n",
      "[nltk_data]       date!\n"
     ]
    },
    {
     "data": {
      "text/plain": [
       "True"
      ]
     },
     "execution_count": 28,
     "metadata": {},
     "output_type": "execute_result"
    }
   ],
   "source": [
    "import nltk\n",
    "nltk.download('averaged_perceptron_tagger')"
   ]
  },
  {
   "cell_type": "code",
   "execution_count": 29,
   "metadata": {
    "scrolled": true
   },
   "outputs": [
    {
     "data": {
      "text/plain": [
       "[('serum', 'NN'),\n",
       " ('foundat', 'NN'),\n",
       " ('lightweight', 'VBD'),\n",
       " ('mediumcoverag', 'NNS'),\n",
       " ('formul', 'JJ'),\n",
       " ('avail', 'NN'),\n",
       " ('comprehens', 'NNS'),\n",
       " ('shade', 'VBD'),\n",
       " ('rang', 'NN'),\n",
       " ('across', 'IN'),\n",
       " ('21', 'CD'),\n",
       " ('shade', 'NN'),\n",
       " ('foundat', 'NN'),\n",
       " ('offer', 'NN'),\n",
       " ('moder', 'NN'),\n",
       " ('coverag', 'NN'),\n",
       " ('look', 'NN'),\n",
       " ('natur', 'JJ'),\n",
       " ('lightweight', 'JJ'),\n",
       " ('serum', 'NN'),\n",
       " ('feel', 'NN'),\n",
       " ('low', 'JJ'),\n",
       " ('viscos', 'NN'),\n",
       " ('dispens', 'VBZ'),\n",
       " ('suppli', 'JJ'),\n",
       " ('pump', 'NN'),\n",
       " ('option', 'NN'),\n",
       " ('glass', 'NN'),\n",
       " ('dropper', 'NN'),\n",
       " ('avail', 'NN'),\n",
       " ('purchas', 'NN'),\n",
       " ('separ', 'NN'),\n",
       " ('prefer', 'VBP')]"
      ]
     },
     "execution_count": 29,
     "metadata": {},
     "output_type": "execute_result"
    }
   ],
   "source": [
    "# Testing only\n",
    "tokens = text_df['description'][5]\n",
    "\n",
    "nltk.pos_tag(word_tokenize(tokens))"
   ]
  },
  {
   "cell_type": "markdown",
   "metadata": {},
   "source": [
    "> 4- Bag of words\n",
    "    - CountVectorizer "
   ]
  },
  {
   "cell_type": "code",
   "execution_count": 30,
   "metadata": {},
   "outputs": [],
   "source": [
    "'''\n",
    "COUNT VECTORIZER for ENCODING\n",
    "'''\n",
    "vectorizer = CountVectorizer()\n",
    "vectorizer.fit(text_df['description'])\n",
    "vector = vectorizer.transform(text_df['description'])"
   ]
  },
  {
   "cell_type": "code",
   "execution_count": 31,
   "metadata": {},
   "outputs": [
    {
     "name": "stdout",
     "output_type": "stream",
     "text": [
      "(931, 5892)\n",
      "[[0 0 0 ... 0 0 0]\n",
      " [0 0 0 ... 0 0 0]\n",
      " [0 0 0 ... 0 0 0]\n",
      " ...\n",
      " [0 0 0 ... 0 0 0]\n",
      " [0 0 0 ... 0 0 0]\n",
      " [0 0 0 ... 0 0 0]]\n"
     ]
    }
   ],
   "source": [
    "print(vector.shape)\n",
    "print(vector.toarray())"
   ]
  },
  {
   "cell_type": "markdown",
   "metadata": {},
   "source": [
    "> 5- TF-IDF\n",
    "    - Term Frequency–Inverse Document Frequency"
   ]
  },
  {
   "cell_type": "code",
   "execution_count": 32,
   "metadata": {},
   "outputs": [
    {
     "data": {
      "text/plain": [
       "array([[0., 0., 0., ..., 0., 0., 0.],\n",
       "       [0., 0., 0., ..., 0., 0., 0.],\n",
       "       [0., 0., 0., ..., 0., 0., 0.],\n",
       "       ...,\n",
       "       [0., 0., 0., ..., 0., 0., 0.],\n",
       "       [0., 0., 0., ..., 0., 0., 0.],\n",
       "       [0., 0., 0., ..., 0., 0., 0.]])"
      ]
     },
     "execution_count": 32,
     "metadata": {},
     "output_type": "execute_result"
    }
   ],
   "source": [
    "# extract tfid \n",
    "tfidf_converter = TfidfTransformer()\n",
    "df_x_tfidf = tfidf_converter.fit_transform(vector).toarray()\n",
    "df_x_tfidf"
   ]
  },
  {
   "cell_type": "markdown",
   "metadata": {},
   "source": [
    "### 04) Splitting Data "
   ]
  },
  {
   "cell_type": "code",
   "execution_count": 33,
   "metadata": {},
   "outputs": [],
   "source": [
    "X = df_x_tfidf\n",
    "y = text_df['product_type']\n",
    "\n",
    "X_train, X_test, y_train, y_test = train_test_split(X, y, test_size=0.25, random_state = 0)"
   ]
  },
  {
   "cell_type": "code",
   "execution_count": 34,
   "metadata": {},
   "outputs": [
    {
     "data": {
      "text/plain": [
       "((698, 5892), (233, 5892), (698,), (233,))"
      ]
     },
     "execution_count": 34,
     "metadata": {},
     "output_type": "execute_result"
    }
   ],
   "source": [
    "X_train.shape, X_test.shape, y_train.shape, y_test.shape"
   ]
  },
  {
   "cell_type": "markdown",
   "metadata": {},
   "source": [
    "### 05) Build the model\n",
    "\n",
    "    - The problem: Multi-classification\n",
    "    - Algorthims: Logistic Regression."
   ]
  },
  {
   "cell_type": "markdown",
   "metadata": {},
   "source": [
    "> 5.1) Logistic Regression\n"
   ]
  },
  {
   "cell_type": "code",
   "execution_count": 35,
   "metadata": {},
   "outputs": [
    {
     "data": {
      "text/plain": [
       "LogisticRegression()"
      ]
     },
     "execution_count": 35,
     "metadata": {},
     "output_type": "execute_result"
    }
   ],
   "source": [
    "LR_Model_log = LogisticRegression()\n",
    "LR_Model_log.fit(X_train, y_train)"
   ]
  },
  {
   "cell_type": "code",
   "execution_count": 36,
   "metadata": {},
   "outputs": [],
   "source": [
    "# Preparing sets using numpy\n",
    "ytest = np.array(y_test)\n",
    "pred = LR_Model_log.predict(X_test)"
   ]
  },
  {
   "cell_type": "markdown",
   "metadata": {},
   "source": [
    "### 06) Confusion Matrix & Classification Report"
   ]
  },
  {
   "cell_type": "code",
   "execution_count": 37,
   "metadata": {},
   "outputs": [
    {
     "name": "stdout",
     "output_type": "stream",
     "text": [
      "ACCURACY : 0.8669527896995708 \n",
      "\n"
     ]
    }
   ],
   "source": [
    "print('ACCURACY : %s \\n' % accuracy_score(pred, y_test))\n"
   ]
  },
  {
   "cell_type": "code",
   "execution_count": 38,
   "metadata": {},
   "outputs": [
    {
     "name": "stdout",
     "output_type": "stream",
     "text": [
      "              precision    recall  f1-score   support\n",
      "\n",
      "           1       0.80      0.99      0.88        91\n",
      "           2       1.00      0.84      0.92        45\n",
      "           3       0.84      0.78      0.81        40\n",
      "           4       0.94      0.78      0.85        40\n",
      "           5       1.00      0.71      0.83        17\n",
      "\n",
      "    accuracy                           0.87       233\n",
      "   macro avg       0.91      0.82      0.86       233\n",
      "weighted avg       0.88      0.87      0.87       233\n",
      "\n"
     ]
    }
   ],
   "source": [
    "print(classification_report(ytest, pred))\n"
   ]
  },
  {
   "cell_type": "code",
   "execution_count": 39,
   "metadata": {},
   "outputs": [
    {
     "name": "stdout",
     "output_type": "stream",
     "text": [
      "[[90  0  0  1  0]\n",
      " [ 6 38  1  0  0]\n",
      " [ 9  0 31  0  0]\n",
      " [ 4  0  5 31  0]\n",
      " [ 4  0  0  1 12]]\n"
     ]
    }
   ],
   "source": [
    "print(confusion_matrix(ytest, pred))"
   ]
  },
  {
   "cell_type": "code",
   "execution_count": 40,
   "metadata": {},
   "outputs": [],
   "source": [
    "# save the model to disk\n",
    "import pickle\n",
    "filename = 'LR_model.sav'\n",
    "pickle.dump(LR_Model_log, open(filename, 'wb'))"
   ]
  },
  {
   "cell_type": "code",
   "execution_count": 41,
   "metadata": {
    "scrolled": true
   },
   "outputs": [
    {
     "name": "stdout",
     "output_type": "stream",
     "text": [
      "0.8669527896995708\n"
     ]
    }
   ],
   "source": [
    "# load the model from disk\n",
    "loaded_model = pickle.load(open(filename, 'rb'))\n",
    "result = loaded_model.score(X_test, y_test)\n",
    "print(result)"
   ]
  },
  {
   "cell_type": "markdown",
   "metadata": {},
   "source": [
    "  5.2) SVM"
   ]
  },
  {
   "cell_type": "code",
   "execution_count": 42,
   "metadata": {},
   "outputs": [],
   "source": [
    "from sklearn import svm\n",
    "from sklearn import metrics\n",
    "clf = svm.SVC(kernel='linear')\n",
    "clf.fit(X_train, y_train)\n",
    "y_pred = clf.predict(X_test)"
   ]
  },
  {
   "cell_type": "code",
   "execution_count": 43,
   "metadata": {},
   "outputs": [
    {
     "name": "stdout",
     "output_type": "stream",
     "text": [
      "ACCURACY : 0.9227467811158798 \n",
      "\n"
     ]
    }
   ],
   "source": [
    "print('ACCURACY : %s \\n' % metrics.accuracy_score(y_test, y_pred))"
   ]
  },
  {
   "cell_type": "code",
   "execution_count": 44,
   "metadata": {},
   "outputs": [
    {
     "name": "stdout",
     "output_type": "stream",
     "text": [
      "              precision    recall  f1-score   support\n",
      "\n",
      "           1       0.89      0.97      0.93        91\n",
      "           2       0.98      0.91      0.94        45\n",
      "           3       0.89      0.85      0.87        40\n",
      "           4       0.97      0.90      0.94        40\n",
      "           5       0.94      0.94      0.94        17\n",
      "\n",
      "    accuracy                           0.92       233\n",
      "   macro avg       0.93      0.91      0.92       233\n",
      "weighted avg       0.93      0.92      0.92       233\n",
      "\n"
     ]
    }
   ],
   "source": [
    "print(classification_report(ytest, y_pred))"
   ]
  },
  {
   "cell_type": "code",
   "execution_count": 45,
   "metadata": {},
   "outputs": [
    {
     "name": "stdout",
     "output_type": "stream",
     "text": [
      "[[88  1  1  1  0]\n",
      " [ 3 41  0  0  1]\n",
      " [ 6  0 34  0  0]\n",
      " [ 1  0  3 36  0]\n",
      " [ 1  0  0  0 16]]\n"
     ]
    }
   ],
   "source": [
    "print(confusion_matrix(ytest, y_pred))"
   ]
  },
  {
   "cell_type": "markdown",
   "metadata": {},
   "source": [
    "5.3)  Random Forest"
   ]
  },
  {
   "cell_type": "code",
   "execution_count": 46,
   "metadata": {},
   "outputs": [
    {
     "data": {
      "text/plain": [
       "RandomForestClassifier()"
      ]
     },
     "execution_count": 46,
     "metadata": {},
     "output_type": "execute_result"
    }
   ],
   "source": [
    "from sklearn.ensemble import RandomForestClassifier\n",
    "clff=RandomForestClassifier(n_estimators=100)\n",
    "clff.fit(X_train,y_train)"
   ]
  },
  {
   "cell_type": "code",
   "execution_count": 47,
   "metadata": {},
   "outputs": [
    {
     "name": "stdout",
     "output_type": "stream",
     "text": [
      "ACCURACY : 0.9012875536480687 \n",
      "\n"
     ]
    }
   ],
   "source": [
    "y_pred=clff.predict(X_test)\n",
    "print('ACCURACY : %s \\n' % metrics.accuracy_score(y_test, y_pred))"
   ]
  },
  {
   "cell_type": "code",
   "execution_count": 48,
   "metadata": {},
   "outputs": [
    {
     "name": "stdout",
     "output_type": "stream",
     "text": [
      "              precision    recall  f1-score   support\n",
      "\n",
      "           1       0.85      0.97      0.91        91\n",
      "           2       1.00      0.78      0.88        45\n",
      "           3       0.87      0.82      0.85        40\n",
      "           4       0.97      0.93      0.95        40\n",
      "           5       0.89      1.00      0.94        17\n",
      "\n",
      "    accuracy                           0.90       233\n",
      "   macro avg       0.92      0.90      0.90       233\n",
      "weighted avg       0.91      0.90      0.90       233\n",
      "\n"
     ]
    }
   ],
   "source": [
    "print(classification_report(ytest, y_pred))"
   ]
  },
  {
   "cell_type": "code",
   "execution_count": 49,
   "metadata": {},
   "outputs": [
    {
     "name": "stdout",
     "output_type": "stream",
     "text": [
      "[[88  0  2  1  0]\n",
      " [ 7 35  1  0  2]\n",
      " [ 7  0 33  0  0]\n",
      " [ 1  0  2 37  0]\n",
      " [ 0  0  0  0 17]]\n"
     ]
    }
   ],
   "source": [
    "print(confusion_matrix(ytest, y_pred))"
   ]
  },
  {
   "cell_type": "markdown",
   "metadata": {},
   "source": [
    "### End of PROJECT"
   ]
  }
 ],
 "metadata": {
  "kernelspec": {
   "display_name": "Python 3",
   "language": "python",
   "name": "python3"
  },
  "language_info": {
   "codemirror_mode": {
    "name": "ipython",
    "version": 3
   },
   "file_extension": ".py",
   "mimetype": "text/x-python",
   "name": "python",
   "nbconvert_exporter": "python",
   "pygments_lexer": "ipython3",
   "version": "3.8.5"
  }
 },
 "nbformat": 4,
 "nbformat_minor": 2
}
